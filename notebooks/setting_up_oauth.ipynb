{
 "cells": [
  {
   "cell_type": "code",
   "execution_count": 1,
   "metadata": {},
   "outputs": [],
   "source": [
    "import spotipy\n",
    "from spotipy.oauth2 import SpotifyOAuth"
   ]
  },
  {
   "cell_type": "code",
   "execution_count": 2,
   "metadata": {},
   "outputs": [],
   "source": [
    "def get_top_n(response):\n",
    "    top_artists = []\n",
    "    for item in response['items']:\n",
    "        top_artists.append(item['name'])\n",
    "    return top_artists\n",
    "\n",
    "def parse_playlist_ids(response):\n",
    "    playlist_ids = []\n",
    "    for item in response['items']:\n",
    "        pid = item['id']\n",
    "\n",
    "        playlist_ids.append(pid)\n",
    "    return playlist_ids\n",
    "\n",
    "def parse_track_info(response):\n",
    "    track_names = []\n",
    "    artist_names = []\n",
    "    album_names = []\n",
    "    \n",
    "    for item in r['items']:\n",
    "                \n",
    "        # Gets the name of the track\n",
    "        track = item['track']['name']\n",
    "        # Gets the name of the album\n",
    "        album = item['track']['album']['name']\n",
    "        # Gets the name of the first artist listed under album artists\n",
    "        artist = item['track']['album']['artists'][0]['name']\n",
    "             \n",
    "        track_names.append(track)\n",
    "        album_names.append(album)\n",
    "        artist_names.append(artist) \n",
    "    return track_names, album_names, artist_names"
   ]
  },
  {
   "cell_type": "code",
   "execution_count": 3,
   "metadata": {},
   "outputs": [],
   "source": [
    "# Application information\n",
    "client_id = 'f78a4f4cfe9c40ea8fe346b0576e98ea'\n",
    "client_secret = 'c26db2d4c1fb42d79dc99945b2360ab4'\n",
    "\n",
    "# Temporary placeholder until we actually get a website going\n",
    "redirect_uri = 'https://google.com/'\n",
    "\n",
    "# The permissions that our application will ask for\n",
    "scope = \" \".join(['playlist-modify-public',\"user-top-read\",\"user-read-recently-played\",\"playlist-read-private\"])\n",
    "\n",
    "username = 'kynicoles'"
   ]
  },
  {
   "cell_type": "markdown",
   "metadata": {},
   "source": [
    "# From Colin\n",
    "\n",
    "Here I took some code from Colin's application. We can use this in the future when we actually have a website and we're sending people around various pages. Until then we will just use the SpotifyOAuth object to authenticate locally."
   ]
  },
  {
   "cell_type": "code",
   "execution_count": 4,
   "metadata": {},
   "outputs": [],
   "source": [
    "# Oauth object    \n",
    "sp_oauth = spotipy.oauth2.SpotifyOAuth(client_id, client_secret, redirect_uri, scope=scope, username=username)\n",
    "\n",
    "# Force auth every time\n",
    "authUrl = sp_oauth.get_authorize_url()"
   ]
  },
  {
   "cell_type": "markdown",
   "metadata": {},
   "source": [
    "# Using Locally\n",
    "\n",
    "For the time being this is how we will access user information on the Spotify API."
   ]
  },
  {
   "cell_type": "code",
   "execution_count": 5,
   "metadata": {},
   "outputs": [],
   "source": [
    "sp = spotipy.Spotify(auth_manager=sp_oauth)"
   ]
  },
  {
   "cell_type": "markdown",
   "metadata": {},
   "source": [
    "# Methods of Pulling User Data"
   ]
  },
  {
   "cell_type": "markdown",
   "metadata": {},
   "source": [
    "### Top Artists"
   ]
  },
  {
   "cell_type": "code",
   "execution_count": 6,
   "metadata": {},
   "outputs": [
    {
     "data": {
      "text/plain": [
       "['SAINt JHN',\n",
       " 'The Kid LAROI',\n",
       " 'Jack Harlow',\n",
       " 'Tyler, The Creator',\n",
       " 'Playboi Carti',\n",
       " 'Fall Out Boy',\n",
       " 'Laura Marling',\n",
       " 'The Backseat Lovers',\n",
       " 'HARBOUR',\n",
       " 'Bladee']"
      ]
     },
     "execution_count": 6,
     "metadata": {},
     "output_type": "execute_result"
    }
   ],
   "source": [
    "r = sp.current_user_top_artists(limit=50, time_range='short_term')\n",
    "get_top_n(r)[:10]"
   ]
  },
  {
   "cell_type": "code",
   "execution_count": 7,
   "metadata": {},
   "outputs": [
    {
     "data": {
      "text/plain": [
       "['brakence',\n",
       " 'Daughtry',\n",
       " 'Rise Against',\n",
       " 'Aminé',\n",
       " 'Playboi Carti',\n",
       " 'Joji',\n",
       " 'Tony Velour',\n",
       " 'The Kid LAROI',\n",
       " 'Jack Harlow',\n",
       " 'Paramore']"
      ]
     },
     "execution_count": 7,
     "metadata": {},
     "output_type": "execute_result"
    }
   ],
   "source": [
    "r = sp.current_user_top_artists(limit=50, time_range='medium_term')\n",
    "get_top_n(r)[:10]"
   ]
  },
  {
   "cell_type": "code",
   "execution_count": 8,
   "metadata": {},
   "outputs": [
    {
     "data": {
      "text/plain": [
       "['Fall Out Boy',\n",
       " 'BROCKHAMPTON',\n",
       " 'XXXTENTACION',\n",
       " 'brakence',\n",
       " 'Imagine Dragons',\n",
       " 'tricot',\n",
       " 'Denzel Curry',\n",
       " 'The Story So Far',\n",
       " 'Lil Uzi Vert',\n",
       " '100 gecs']"
      ]
     },
     "execution_count": 8,
     "metadata": {},
     "output_type": "execute_result"
    }
   ],
   "source": [
    "r = sp.current_user_top_artists(limit=50, time_range='long_term')\n",
    "get_top_n(r)[:10]"
   ]
  },
  {
   "cell_type": "markdown",
   "metadata": {},
   "source": [
    "### Top Tracks"
   ]
  },
  {
   "cell_type": "code",
   "execution_count": 9,
   "metadata": {},
   "outputs": [
    {
     "data": {
      "text/plain": [
       "['Over My Head (Cable Car)',\n",
       " 'Good Days',\n",
       " '5 Thousand Singles',\n",
       " 'NOT FAIR (feat. Corbin)',\n",
       " '48',\n",
       " 'Saddest Game',\n",
       " \"Our Lawyer Made Us Change The Name Of This Song So We Wouldn't Get Sued\",\n",
       " 'Nobody Puts Baby In The Corner',\n",
       " 'Into One',\n",
       " 'Who Do You Blame']"
      ]
     },
     "execution_count": 9,
     "metadata": {},
     "output_type": "execute_result"
    }
   ],
   "source": [
    "r = sp.current_user_top_tracks(limit=50, time_range='short_term')\n",
    "get_top_n(r)[:10]"
   ]
  },
  {
   "cell_type": "code",
   "execution_count": 10,
   "metadata": {},
   "outputs": [
    {
     "data": {
      "text/plain": [
       "['51129',\n",
       " 'Tick Tock',\n",
       " 'Bih Yah',\n",
       " 'Three Man Weave',\n",
       " 'Sangria (feat. Denzel Curry)',\n",
       " 'ginger tea',\n",
       " 'Monsters (feat. blackbear)',\n",
       " 'sympathy 4 the grinch',\n",
       " 'Watch Your Mouth',\n",
       " 'Over My Head (Cable Car)']"
      ]
     },
     "execution_count": 10,
     "metadata": {},
     "output_type": "execute_result"
    }
   ],
   "source": [
    "r = sp.current_user_top_tracks(limit=50, time_range='medium_term')\n",
    "get_top_n(r)[:10]"
   ]
  },
  {
   "cell_type": "code",
   "execution_count": 11,
   "metadata": {},
   "outputs": [
    {
     "data": {
      "text/plain": [
       "['CASH',\n",
       " 'Machine',\n",
       " 'Star Shopping',\n",
       " 'The Space Between',\n",
       " 'ginger tea',\n",
       " 'Bulletproof Love',\n",
       " 'fwb',\n",
       " 'Daylily',\n",
       " 'Moby Dick',\n",
       " 'Alien Boy']"
      ]
     },
     "execution_count": 11,
     "metadata": {},
     "output_type": "execute_result"
    }
   ],
   "source": [
    "r = sp.current_user_top_tracks(limit=50, time_range='long_term')\n",
    "get_top_n(r)[:10]"
   ]
  },
  {
   "cell_type": "markdown",
   "metadata": {},
   "source": [
    "### Recently Played"
   ]
  },
  {
   "cell_type": "code",
   "execution_count": 12,
   "metadata": {},
   "outputs": [],
   "source": [
    "r = sp.current_user_recently_played(limit=50, after=None, before=None)\n"
   ]
  },
  {
   "cell_type": "code",
   "execution_count": 13,
   "metadata": {},
   "outputs": [],
   "source": [
    "tracks, albums, artists = parse_track_info(r)"
   ]
  },
  {
   "cell_type": "code",
   "execution_count": 14,
   "metadata": {},
   "outputs": [
    {
     "data": {
      "text/plain": [
       "['Wedding Day',\n",
       " 'Cult4Ever',\n",
       " 'High School Reunion',\n",
       " 'Monica Lewinsky (feat. A Boogie Wit da Hoodie)',\n",
       " 'All I Want Is A Yacht',\n",
       " 'Yonkers',\n",
       " 'Yonkers',\n",
       " 'Colossus',\n",
       " '48',\n",
       " 'Slater (feat. Frank Ocean)']"
      ]
     },
     "execution_count": 14,
     "metadata": {},
     "output_type": "execute_result"
    }
   ],
   "source": [
    "tracks[:10]"
   ]
  },
  {
   "cell_type": "code",
   "execution_count": 15,
   "metadata": {},
   "outputs": [
    {
     "data": {
      "text/plain": [
       "[\"Ghetto Lenny's Love Songs\",\n",
       " \"Ghetto Lenny's Love Songs\",\n",
       " \"Ghetto Lenny's Love Songs\",\n",
       " \"Ghetto Lenny's Love Songs\",\n",
       " \"Ghetto Lenny's Love Songs\",\n",
       " 'Goblin',\n",
       " 'Goblin',\n",
       " 'Wolf',\n",
       " 'Wolf',\n",
       " 'Wolf']"
      ]
     },
     "execution_count": 15,
     "metadata": {},
     "output_type": "execute_result"
    }
   ],
   "source": [
    "albums[:10]"
   ]
  },
  {
   "cell_type": "code",
   "execution_count": 16,
   "metadata": {},
   "outputs": [
    {
     "data": {
      "text/plain": [
       "['SAINt JHN',\n",
       " 'SAINt JHN',\n",
       " 'SAINt JHN',\n",
       " 'SAINt JHN',\n",
       " 'SAINt JHN',\n",
       " 'Tyler, The Creator',\n",
       " 'Tyler, The Creator',\n",
       " 'Tyler, The Creator',\n",
       " 'Tyler, The Creator',\n",
       " 'Tyler, The Creator']"
      ]
     },
     "execution_count": 16,
     "metadata": {},
     "output_type": "execute_result"
    }
   ],
   "source": [
    "artists[:10]"
   ]
  },
  {
   "cell_type": "markdown",
   "metadata": {},
   "source": [
    "### Playlist Songs\n",
    "\n",
    "\n",
    "Gettings the songs/artists/albums/etc. associated with a user's playlists can be accomplished in two steps.\n",
    "\n",
    "1. Use ```sp.current_user_playlists()``` to find all the playlist IDs for the user's playlists.\n",
    "\n",
    "2. Use ```sp.playlist_items()``` to find the songs on every playlist. Any other information could then be inferred from there."
   ]
  },
  {
   "cell_type": "code",
   "execution_count": 17,
   "metadata": {},
   "outputs": [],
   "source": [
    "# First use this command to get all of the user's playlist IDs\n",
    "r = sp.current_user_playlists()"
   ]
  },
  {
   "cell_type": "code",
   "execution_count": 18,
   "metadata": {},
   "outputs": [],
   "source": [
    "# Extract all playlist IDs in a list\n",
    "playlist_ids = parse_playlist_ids(r)"
   ]
  },
  {
   "cell_type": "code",
   "execution_count": 19,
   "metadata": {},
   "outputs": [],
   "source": [
    "# Pull all the tracks from a playlist\n",
    "tracks = []\n",
    "albums = []\n",
    "artists = []\n",
    "\n",
    "# Loop through each playlist one by one\n",
    "for pid in playlist_ids:\n",
    "    # Request all track information\n",
    "    r = sp.playlist_items(pid)\n",
    "    \n",
    "    tracks, albums, artists = parse_track_info(r)\n",
    "    break\n",
    "    \n",
    "    "
   ]
  },
  {
   "cell_type": "code",
   "execution_count": 20,
   "metadata": {},
   "outputs": [
    {
     "data": {
      "text/plain": [
       "['JACKBOYS',\n",
       " 'Litanie contre la Peur',\n",
       " 'listen before i go',\n",
       " 'goodbye',\n",
       " 'RNP (feat. Anderson .Paak)',\n",
       " 'Christmas Time Is Here - Vocal',\n",
       " 'Legion Inoculant',\n",
       " 'Can We Kiss Forever?',\n",
       " 'Can We Kiss Forever?',\n",
       " 'i love you']"
      ]
     },
     "execution_count": 20,
     "metadata": {},
     "output_type": "execute_result"
    }
   ],
   "source": [
    "tracks[:10]"
   ]
  },
  {
   "cell_type": "code",
   "execution_count": 21,
   "metadata": {},
   "outputs": [
    {
     "data": {
      "text/plain": [
       "['JACKBOYS',\n",
       " 'Fear Inoculum',\n",
       " 'WHEN WE ALL FALL ASLEEP, WHERE DO WE GO?',\n",
       " 'WHEN WE ALL FALL ASLEEP, WHERE DO WE GO?',\n",
       " 'The Lost Boy',\n",
       " 'A Charlie Brown Christmas [2012 Remastered & Expanded Edition]',\n",
       " 'Fear Inoculum',\n",
       " 'Can We Kiss Forever?',\n",
       " 'Can We Kiss Forever?',\n",
       " 'WHEN WE ALL FALL ASLEEP, WHERE DO WE GO?']"
      ]
     },
     "execution_count": 21,
     "metadata": {},
     "output_type": "execute_result"
    }
   ],
   "source": [
    "albums[:10]"
   ]
  },
  {
   "cell_type": "code",
   "execution_count": 22,
   "metadata": {},
   "outputs": [
    {
     "data": {
      "text/plain": [
       "['JACKBOYS',\n",
       " 'TOOL',\n",
       " 'Billie Eilish',\n",
       " 'Billie Eilish',\n",
       " 'Cordae',\n",
       " 'Vince Guaraldi Trio',\n",
       " 'TOOL',\n",
       " 'Kina',\n",
       " 'Kina',\n",
       " 'Billie Eilish']"
      ]
     },
     "execution_count": 22,
     "metadata": {},
     "output_type": "execute_result"
    }
   ],
   "source": [
    "artists[:10]"
   ]
  },
  {
   "cell_type": "code",
   "execution_count": null,
   "metadata": {},
   "outputs": [],
   "source": []
  },
  {
   "cell_type": "code",
   "execution_count": null,
   "metadata": {},
   "outputs": [],
   "source": []
  },
  {
   "cell_type": "code",
   "execution_count": null,
   "metadata": {},
   "outputs": [],
   "source": []
  },
  {
   "cell_type": "code",
   "execution_count": null,
   "metadata": {},
   "outputs": [],
   "source": []
  }
 ],
 "metadata": {
  "kernelspec": {
   "display_name": "Python 3",
   "language": "python",
   "name": "python3"
  },
  "language_info": {
   "codemirror_mode": {
    "name": "ipython",
    "version": 3
   },
   "file_extension": ".py",
   "mimetype": "text/x-python",
   "name": "python",
   "nbconvert_exporter": "python",
   "pygments_lexer": "ipython3",
   "version": "3.8.5"
  }
 },
 "nbformat": 4,
 "nbformat_minor": 4
}
