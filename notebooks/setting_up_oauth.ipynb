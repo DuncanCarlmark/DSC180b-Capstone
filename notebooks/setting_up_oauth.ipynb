{
 "cells": [
  {
   "cell_type": "code",
   "execution_count": 1,
   "metadata": {},
   "outputs": [],
   "source": [
    "import spotipy\n",
    "import os\n",
    "from spotipy.oauth2 import SpotifyOAuth\n",
    "from IPython.core.display import display, HTML\n"
   ]
  },
  {
   "cell_type": "code",
   "execution_count": 2,
   "metadata": {},
   "outputs": [],
   "source": [
    "def get_top_n(response):\n",
    "    top_artists = []\n",
    "    for item in response['items']:\n",
    "        top_artists.append(item['name'])\n",
    "    return top_artists\n",
    "\n",
    "def parse_playlist_ids(response):\n",
    "    playlist_ids = []\n",
    "    for item in response['items']:\n",
    "        pid = item['id']\n",
    "\n",
    "        playlist_ids.append(pid)\n",
    "    return playlist_ids\n",
    "\n",
    "def parse_track_info(response):\n",
    "    track_names = []\n",
    "    artist_names = []\n",
    "    album_names = []\n",
    "    \n",
    "    for item in r['items']:\n",
    "            \n",
    "        if item is None or item['track'] is None:\n",
    "            continue\n",
    "        # Gets the name of the track\n",
    "        track = item['track']['name']\n",
    "        # Gets the name of the album\n",
    "        album = item['track']['album']['name']\n",
    "        # Gets the name of the first artist listed under album artists\n",
    "        artist = item['track']['album']['artists'][0]['name']\n",
    "             \n",
    "        track_names.append(track)\n",
    "        album_names.append(album)\n",
    "        artist_names.append(artist) \n",
    "    return track_names, album_names, artist_names"
   ]
  },
  {
   "cell_type": "code",
   "execution_count": 3,
   "metadata": {},
   "outputs": [],
   "source": [
    "# Application information\n",
    "client_id = 'f78a4f4cfe9c40ea8fe346b0576e98ea'\n",
    "client_secret = 'c26db2d4c1fb42d79dc99945b2360ab4'\n",
    "\n",
    "# Temporary placeholder until we actually get a website going\n",
    "redirect_uri = 'https://google.com/'\n",
    "\n",
    "# The permissions that our application will ask for\n",
    "scope = \" \".join(['playlist-modify-public',\"user-top-read\",\"user-read-recently-played\",\"playlist-read-private\"])\n",
    "\n"
   ]
  },
  {
   "cell_type": "markdown",
   "metadata": {},
   "source": [
    "# From Colin\n",
    "\n",
    "Here I took some code from Colin's application. We can use this in the future when we actually have a website and we're sending people around various pages. Until then we will just use the SpotifyOAuth object to authenticate locally."
   ]
  },
  {
   "cell_type": "code",
   "execution_count": 4,
   "metadata": {},
   "outputs": [
    {
     "data": {
      "text/plain": [
       "'https://accounts.spotify.com/authorize?client_id=f78a4f4cfe9c40ea8fe346b0576e98ea&response_type=code&redirect_uri=https%3A%2F%2Fgoogle.com%2F&scope=playlist-modify-public+playlist-read-private+user-read-recently-played+user-top-read&show_dialog=True'"
      ]
     },
     "execution_count": 4,
     "metadata": {},
     "output_type": "execute_result"
    }
   ],
   "source": [
    "# Oauth object    \n",
    "sp_oauth = spotipy.oauth2.SpotifyOAuth(client_id, client_secret, redirect_uri, scope=scope, cache_path=None, show_dialog=True)\n",
    "\n",
    "# Force auth every time\n",
    "authUrl = sp_oauth.get_authorize_url()\n",
    "authUrl"
   ]
  },
  {
   "cell_type": "code",
   "execution_count": 5,
   "metadata": {
    "scrolled": true
   },
   "outputs": [
    {
     "data": {
      "text/html": [
       "<!DOCTYPE html>\n",
       "<html>\n",
       "<head>\n",
       "<meta charset=\"UTF-8\">\n",
       "<title>Bad Vibes!</title>\n",
       "<body>\n",
       "<h1>Bad Vibes!</h1><br>\n",
       "<a href=\"https://accounts.spotify.com/authorize?client_id=f78a4f4cfe9c40ea8fe346b0576e98ea&response_type=code&redirect_uri=https%3A%2F%2Fgoogle.com%2F&scope=playlist-modify-public+playlist-read-private+user-read-recently-played+user-top-read&show_dialog=True\">Authorize</a><br><br>\n",
       "You can trust me.\n",
       "</body>"
      ],
      "text/plain": [
       "<IPython.core.display.HTML object>"
      ]
     },
     "metadata": {},
     "output_type": "display_data"
    }
   ],
   "source": [
    "websiteHtml = \"\"\"<!DOCTYPE html>\n",
    "<html>\n",
    "<head>\n",
    "<meta charset=\"UTF-8\">\n",
    "<title>Bad Vibes!</title>\n",
    "<body>\n",
    "<h1>Bad Vibes!</h1><br>\n",
    "<a href=\"{}\">Authorize</a><br><br>\n",
    "You can trust me.\n",
    "</body>\"\"\".format(authUrl)\n",
    "site = HTML(websiteHtml)\n",
    "display(site)"
   ]
  },
  {
   "cell_type": "code",
   "execution_count": 6,
   "metadata": {},
   "outputs": [
    {
     "name": "stdout",
     "output_type": "stream",
     "text": [
      "Name: spotipy\n",
      "Version: 2.16.1\n",
      "Summary: A light weight Python library for the Spotify Web API\n",
      "Home-page: https://spotipy.readthedocs.org/\n",
      "Author: @plamere\n",
      "Author-email: paul@echonest.com\n",
      "License: LICENSE.md\n",
      "Location: c:\\users\\sarat\\appdata\\local\\programs\\python\\python38\\lib\\site-packages\n",
      "Requires: requests, six\n",
      "Required-by: \n"
     ]
    }
   ],
   "source": [
    "!pip show spotipy"
   ]
  },
  {
   "cell_type": "code",
   "execution_count": 7,
   "metadata": {},
   "outputs": [],
   "source": [
    "returnUrl = 'https://www.google.com/?code=AQC_WPzvcyLMGDQIWg8gYV_t6zM5jpHlOmt1PeT1Lj5MWxqnu5zgqpxKtR_sP1Vdv8pAnYp1XtzvaLu_UVkOSvzGmeUHiESAb3aA65-i2chS6yQxokrtfFUOFZ-oKpEeLzE7CG1y0jWHfgG9cWYmVTYeMBcPwa_EXPJe3wDgmMQ0NKsg87bpECJ3NuUwAd77t7GbMFK8JL9pqcnLiHEIcH4ZBC75TvLSceMHEgUm8i6kzDqtfFJyYq4jKuUipd0huy3kuLp3tFoAEhrBQjjnCQ'"
   ]
  },
  {
   "cell_type": "code",
   "execution_count": 8,
   "metadata": {},
   "outputs": [
    {
     "name": "stderr",
     "output_type": "stream",
     "text": [
      "<ipython-input-8-daba16ad0adc>:2: DeprecationWarning: You're using 'as_dict = True'.get_access_token will return the token string directly in future versions. Please adjust your code accordingly, or use get_cached_token instead.\n",
      "  token_info = sp_oauth.get_access_token(code)\n"
     ]
    },
    {
     "data": {
      "text/plain": [
       "'itzpersonal'"
      ]
     },
     "execution_count": 8,
     "metadata": {},
     "output_type": "execute_result"
    }
   ],
   "source": [
    "code = returnUrl.split(\"?code=\")[1].split(\"&\")[0]\n",
    "token_info = sp_oauth.get_access_token(code)\n",
    "access_token = token_info['access_token']\n",
    "sp = spotipy.Spotify(auth=access_token)\n",
    "\n",
    "# Test auth\n",
    "username = sp.current_user()['id']\n",
    "username\n"
   ]
  },
  {
   "cell_type": "code",
   "execution_count": 9,
   "metadata": {},
   "outputs": [],
   "source": [
    "r = sp.search('time', type='track')"
   ]
  },
  {
   "cell_type": "code",
   "execution_count": 10,
   "metadata": {},
   "outputs": [
    {
     "data": {
      "text/plain": [
       "'2bo0HCDcZj8BYjoht9zYgk'"
      ]
     },
     "execution_count": 10,
     "metadata": {},
     "output_type": "execute_result"
    }
   ],
   "source": [
    "r['tracks']['items'][0]['id']"
   ]
  },
  {
   "cell_type": "markdown",
   "metadata": {},
   "source": [
    "# Using Locally\n",
    "\n",
    "For the time being this is how we will access user information on the Spotify API."
   ]
  },
  {
   "cell_type": "code",
   "execution_count": 11,
   "metadata": {},
   "outputs": [],
   "source": [
    "sp = spotipy.Spotify(oauth_manager=sp_oauth)"
   ]
  },
  {
   "cell_type": "markdown",
   "metadata": {},
   "source": [
    "# Methods of Pulling User Data"
   ]
  },
  {
   "cell_type": "markdown",
   "metadata": {},
   "source": [
    "### Top Artists"
   ]
  },
  {
   "cell_type": "code",
   "execution_count": 12,
   "metadata": {},
   "outputs": [
    {
     "data": {
      "text/plain": [
       "['slowthai',\n",
       " 'JPEGMAFIA',\n",
       " 'Linkin Park',\n",
       " 'Jason Aldean',\n",
       " 'Denzel Curry',\n",
       " 'Fall Out Boy',\n",
       " 'The Beatles',\n",
       " 'Three Days Grace',\n",
       " 'redveil',\n",
       " 'Movements']"
      ]
     },
     "execution_count": 12,
     "metadata": {},
     "output_type": "execute_result"
    }
   ],
   "source": [
    "r = sp.current_user_top_artists(limit=50, time_range='short_term')\n",
    "get_top_n(r)[:10]"
   ]
  },
  {
   "cell_type": "code",
   "execution_count": 13,
   "metadata": {},
   "outputs": [
    {
     "data": {
      "text/plain": [
       "['Fall Out Boy',\n",
       " 'brakence',\n",
       " 'Daughtry',\n",
       " 'Rise Against',\n",
       " 'Playboi Carti',\n",
       " 'Tony Velour',\n",
       " 'Joji',\n",
       " 'slowthai',\n",
       " 'The Kid LAROI',\n",
       " 'SAINt JHN']"
      ]
     },
     "execution_count": 13,
     "metadata": {},
     "output_type": "execute_result"
    }
   ],
   "source": [
    "r = sp.current_user_top_artists(limit=50, time_range='medium_term')\n",
    "get_top_n(r)[:10]"
   ]
  },
  {
   "cell_type": "code",
   "execution_count": 14,
   "metadata": {},
   "outputs": [
    {
     "data": {
      "text/plain": [
       "['Fall Out Boy',\n",
       " 'BROCKHAMPTON',\n",
       " 'XXXTENTACION',\n",
       " 'brakence',\n",
       " 'Denzel Curry',\n",
       " 'Imagine Dragons',\n",
       " 'tricot',\n",
       " 'The Story So Far',\n",
       " 'Lil Uzi Vert',\n",
       " 'JPEGMAFIA']"
      ]
     },
     "execution_count": 14,
     "metadata": {},
     "output_type": "execute_result"
    }
   ],
   "source": [
    "r = sp.current_user_top_artists(limit=50, time_range='long_term')\n",
    "get_top_n(r)[:10]"
   ]
  },
  {
   "cell_type": "markdown",
   "metadata": {},
   "source": [
    "### Top Tracks"
   ]
  },
  {
   "cell_type": "code",
   "execution_count": 15,
   "metadata": {},
   "outputs": [
    {
     "data": {
      "text/plain": [
       "['Skin',\n",
       " 'Rockstar Sea Shanty',\n",
       " 'astrid',\n",
       " 'i tried',\n",
       " 'LAST DANCE!',\n",
       " 'terms (feat. Dominic Fike & Denzel Curry)',\n",
       " 'feel away (feat. James Blake & Mount Kimbie)',\n",
       " 'INTRO!',\n",
       " 'FIX URSELF!',\n",
       " 'KELTEC!']"
      ]
     },
     "execution_count": 15,
     "metadata": {},
     "output_type": "execute_result"
    }
   ],
   "source": [
    "r = sp.current_user_top_tracks(limit=50, time_range='short_term')\n",
    "get_top_n(r)[:10]"
   ]
  },
  {
   "cell_type": "code",
   "execution_count": 16,
   "metadata": {},
   "outputs": [
    {
     "data": {
      "text/plain": [
       "['Tick Tock',\n",
       " 'astrid',\n",
       " '51129',\n",
       " 'Bih Yah',\n",
       " 'Three Man Weave',\n",
       " 'Skin',\n",
       " 'Sangria (feat. Denzel Curry)',\n",
       " 'ginger tea',\n",
       " 'sympathy 4 the grinch',\n",
       " 'Over My Head (Cable Car)']"
      ]
     },
     "execution_count": 16,
     "metadata": {},
     "output_type": "execute_result"
    }
   ],
   "source": [
    "r = sp.current_user_top_tracks(limit=50, time_range='medium_term')\n",
    "get_top_n(r)[:10]"
   ]
  },
  {
   "cell_type": "code",
   "execution_count": 17,
   "metadata": {},
   "outputs": [
    {
     "data": {
      "text/plain": [
       "['CASH',\n",
       " 'ginger tea',\n",
       " 'Machine',\n",
       " 'Star Shopping',\n",
       " 'The Space Between',\n",
       " 'Bulletproof Love',\n",
       " 'fwb',\n",
       " 'Daylily',\n",
       " 'Moby Dick',\n",
       " 'HEAT']"
      ]
     },
     "execution_count": 17,
     "metadata": {},
     "output_type": "execute_result"
    }
   ],
   "source": [
    "r = sp.current_user_top_tracks(limit=50, time_range='long_term')\n",
    "get_top_n(r)[:10]"
   ]
  },
  {
   "cell_type": "markdown",
   "metadata": {},
   "source": [
    "### Recently Played"
   ]
  },
  {
   "cell_type": "code",
   "execution_count": 18,
   "metadata": {},
   "outputs": [],
   "source": [
    "r = sp.current_user_recently_played(limit=50, after=None, before=None)\n"
   ]
  },
  {
   "cell_type": "code",
   "execution_count": 19,
   "metadata": {},
   "outputs": [],
   "source": [
    "tracks, albums, artists = parse_track_info(r)"
   ]
  },
  {
   "cell_type": "code",
   "execution_count": 20,
   "metadata": {},
   "outputs": [
    {
     "data": {
      "text/plain": [
       "['Follow The Light',\n",
       " 'Let It Down',\n",
       " 'The Only One',\n",
       " 'Piano Song',\n",
       " 'Trans DF Express - Club Mix',\n",
       " 'On & On & On',\n",
       " 'Follow The Light',\n",
       " 'Love Me Do - Mono / Remastered',\n",
       " 'Menu',\n",
       " 'Walk Away']"
      ]
     },
     "execution_count": 20,
     "metadata": {},
     "output_type": "execute_result"
    }
   ],
   "source": [
    "tracks[:10]"
   ]
  },
  {
   "cell_type": "code",
   "execution_count": 21,
   "metadata": {},
   "outputs": [
    {
     "data": {
      "text/plain": [
       "['Even In Darkness',\n",
       " 'Armada',\n",
       " 'Armada',\n",
       " 'Armada',\n",
       " 'Even In Darkness',\n",
       " 'Even In Darkness',\n",
       " 'Even In Darkness',\n",
       " '1 (Remastered)',\n",
       " 'Bunny Hill Original Soundtrack',\n",
       " 'Thirds']"
      ]
     },
     "execution_count": 21,
     "metadata": {},
     "output_type": "execute_result"
    }
   ],
   "source": [
    "albums[:10]"
   ]
  },
  {
   "cell_type": "code",
   "execution_count": 22,
   "metadata": {},
   "outputs": [
    {
     "data": {
      "text/plain": [
       "['Dungeon Family',\n",
       " 'The Mile After',\n",
       " 'The Mile After',\n",
       " 'The Mile After',\n",
       " 'Dungeon Family',\n",
       " 'Dungeon Family',\n",
       " 'Dungeon Family',\n",
       " 'The Beatles',\n",
       " 'Gupi',\n",
       " 'James Gang']"
      ]
     },
     "execution_count": 22,
     "metadata": {},
     "output_type": "execute_result"
    }
   ],
   "source": [
    "artists[:10]"
   ]
  },
  {
   "cell_type": "markdown",
   "metadata": {},
   "source": [
    "### Playlist Songs\n",
    "\n",
    "\n",
    "Gettings the songs/artists/albums/etc. associated with a user's playlists can be accomplished in two steps.\n",
    "\n",
    "1. Use ```sp.current_user_playlists()``` to find all the playlist IDs for the user's playlists.\n",
    "\n",
    "2. Use ```sp.playlist_items()``` to find the songs on every playlist. Any other information could then be inferred from there."
   ]
  },
  {
   "cell_type": "code",
   "execution_count": 23,
   "metadata": {},
   "outputs": [],
   "source": [
    "# First use this command to get all of the user's playlist IDs\n",
    "r = sp.current_user_playlists()"
   ]
  },
  {
   "cell_type": "code",
   "execution_count": 24,
   "metadata": {},
   "outputs": [],
   "source": [
    "# Extract all playlist IDs in a list\n",
    "playlist_ids = parse_playlist_ids(r)"
   ]
  },
  {
   "cell_type": "code",
   "execution_count": 25,
   "metadata": {},
   "outputs": [],
   "source": [
    "# Pull all the tracks from a playlist\n",
    "tracks = []\n",
    "albums = []\n",
    "artists = []\n",
    "\n",
    "# Loop through each playlist one by one\n",
    "for pid in playlist_ids:\n",
    "    # Request all track information\n",
    "    r = sp.playlist_items(pid)\n",
    "    \n",
    "    tracks, albums, artists = parse_track_info(r)\n",
    "    \n",
    "    "
   ]
  },
  {
   "cell_type": "code",
   "execution_count": 26,
   "metadata": {},
   "outputs": [
    {
     "data": {
      "text/plain": [
       "['PLAY',\n",
       " 'Escape (ft. Summer Haze)',\n",
       " 'Are We Still Young',\n",
       " 'Walk',\n",
       " 'TOGETHER',\n",
       " 'CAROUSEL',\n",
       " 'Everyday Shit',\n",
       " 'Happy Place',\n",
       " 'NOBODY FALLS',\n",
       " 'Peach']"
      ]
     },
     "execution_count": 26,
     "metadata": {},
     "output_type": "execute_result"
    }
   ],
   "source": [
    "tracks[:10]"
   ]
  },
  {
   "cell_type": "code",
   "execution_count": 27,
   "metadata": {},
   "outputs": [
    {
     "data": {
      "text/plain": [
       "['PLAY',\n",
       " 'Beat Saber (Original Game Soundtrack)',\n",
       " 'Are We Still Young',\n",
       " 'Bawskee',\n",
       " 'ONEPOINTFIVE',\n",
       " 'WELCOME HOME',\n",
       " 'STORM',\n",
       " 'Awake',\n",
       " 'THE FALLING MAN',\n",
       " 'ARIZONA BABY']"
      ]
     },
     "execution_count": 27,
     "metadata": {},
     "output_type": "execute_result"
    }
   ],
   "source": [
    "albums[:10]"
   ]
  },
  {
   "cell_type": "code",
   "execution_count": 28,
   "metadata": {},
   "outputs": [
    {
     "data": {
      "text/plain": [
       "['Tokyo Machine',\n",
       " 'Jaroslav Beck',\n",
       " 'Grant',\n",
       " 'Comethazine',\n",
       " 'Aminé',\n",
       " 'Aries',\n",
       " 'Samron Agnew',\n",
       " 'Alison Wonderland',\n",
       " 'Duckwrth',\n",
       " 'Kevin Abstract']"
      ]
     },
     "execution_count": 28,
     "metadata": {},
     "output_type": "execute_result"
    }
   ],
   "source": [
    "artists[:10]"
   ]
  },
  {
   "cell_type": "code",
   "execution_count": 29,
   "metadata": {},
   "outputs": [
    {
     "ename": "SyntaxError",
     "evalue": "invalid syntax (<ipython-input-29-da1a037928a9>, line 1)",
     "output_type": "error",
     "traceback": [
      "\u001b[1;36m  File \u001b[1;32m\"<ipython-input-29-da1a037928a9>\"\u001b[1;36m, line \u001b[1;32m1\u001b[0m\n\u001b[1;33m    https://open.spotify.com/user/kynicoles?si=gJFaPiJ_T4GRkT8pQ_ZwbQ\u001b[0m\n\u001b[1;37m          ^\u001b[0m\n\u001b[1;31mSyntaxError\u001b[0m\u001b[1;31m:\u001b[0m invalid syntax\n"
     ]
    }
   ],
   "source": [
    "https://open.spotify.com/user/kynicoles?si=gJFaPiJ_T4GRkT8pQ_ZwbQ"
   ]
  }
 ],
 "metadata": {
  "kernelspec": {
   "display_name": "Python 3",
   "language": "python",
   "name": "python3"
  },
  "language_info": {
   "codemirror_mode": {
    "name": "ipython",
    "version": 3
   },
   "file_extension": ".py",
   "mimetype": "text/x-python",
   "name": "python",
   "nbconvert_exporter": "python",
   "pygments_lexer": "ipython3",
   "version": "3.8.1"
  }
 },
 "nbformat": 4,
 "nbformat_minor": 4
}
