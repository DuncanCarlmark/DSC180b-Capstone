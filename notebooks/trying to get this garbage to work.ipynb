{
 "cells": [
  {
   "cell_type": "code",
   "execution_count": 1,
   "metadata": {},
   "outputs": [],
   "source": [
    "import spotipy\n",
    "import os\n",
    "from spotipy.oauth2 import SpotifyOAuth"
   ]
  },
  {
   "cell_type": "code",
   "execution_count": 7,
   "metadata": {},
   "outputs": [],
   "source": [
    "def get_top_n(response):\n",
    "    top_artists = []\n",
    "    for item in response['items']:\n",
    "        top_artists.append(item['name'])\n",
    "    return top_artists\n",
    "\n",
    "def parse_playlist_ids(response):\n",
    "    playlist_ids = []\n",
    "    for item in response['items']:\n",
    "        pid = item['id']\n",
    "\n",
    "        playlist_ids.append(pid)\n",
    "    return playlist_ids\n",
    "\n",
    "def parse_track_info(response):\n",
    "    track_names = []\n",
    "    artist_names = []\n",
    "    album_names = []\n",
    "    \n",
    "    for item in r['items']:\n",
    "                \n",
    "        # Gets the name of the track\n",
    "        track = item['track']['name']\n",
    "        # Gets the name of the album\n",
    "        album = item['track']['album']['name']\n",
    "        # Gets the name of the first artist listed under album artists\n",
    "        artist = item['track']['album']['artists'][0]['name']\n",
    "             \n",
    "        track_names.append(track)\n",
    "        album_names.append(album)\n",
    "        artist_names.append(artist) \n",
    "    return track_names, album_names, artist_names"
   ]
  },
  {
   "cell_type": "code",
   "execution_count": 2,
   "metadata": {},
   "outputs": [],
   "source": [
    "# Application information\n",
    "client_id = 'f78a4f4cfe9c40ea8fe346b0576e98ea'\n",
    "client_secret = 'c26db2d4c1fb42d79dc99945b2360ab4'\n",
    "\n",
    "# Temporary placeholder until we actually get a website going\n",
    "redirect_uri = 'https://google.com/'\n",
    "\n",
    "# The permissions that our application will ask for\n",
    "scope = \" \".join(['playlist-modify-public',\"user-top-read\",\"user-read-recently-played\",\"playlist-read-private\"])\n",
    "\n",
    "username = 'gazzaniga3'"
   ]
  },
  {
   "cell_type": "code",
   "execution_count": 4,
   "metadata": {},
   "outputs": [],
   "source": [
    "try:\n",
    "    token = spotipy.util.prompt_for_user_token(client_id = client_id,\n",
    "                                               client_secret = client_secret,\n",
    "                                               redirect_uri = redirect_uri,\n",
    "                                               username=username)\n",
    "except:\n",
    "    os.remove(f'cache-{username}')\n",
    "    token = spotipy.util.prompt_for_user_token(username=username)\n"
   ]
  },
  {
   "cell_type": "code",
   "execution_count": 5,
   "metadata": {},
   "outputs": [],
   "source": [
    "sp = spotipy.Spotify(auth=token)"
   ]
  },
  {
   "cell_type": "code",
   "execution_count": 8,
   "metadata": {},
   "outputs": [
    {
     "data": {
      "text/plain": [
       "['SAINt JHN',\n",
       " 'The Kid LAROI',\n",
       " 'Jack Harlow',\n",
       " 'Tyler, The Creator',\n",
       " 'Playboi Carti',\n",
       " 'Fall Out Boy',\n",
       " 'Laura Marling',\n",
       " 'The Backseat Lovers',\n",
       " 'HARBOUR',\n",
       " 'Bladee']"
      ]
     },
     "execution_count": 8,
     "metadata": {},
     "output_type": "execute_result"
    }
   ],
   "source": [
    "r = sp.current_user_top_artists(limit=50, time_range='short_term')\n",
    "get_top_n(r)[:10]"
   ]
  },
  {
   "cell_type": "code",
   "execution_count": 10,
   "metadata": {},
   "outputs": [
    {
     "data": {
      "text/plain": [
       "{'display_name': 'Duncan Carlmark',\n",
       " 'external_urls': {'spotify': 'https://open.spotify.com/user/itzpersonal'},\n",
       " 'followers': {'href': None, 'total': 14},\n",
       " 'href': 'https://api.spotify.com/v1/users/itzpersonal',\n",
       " 'id': 'itzpersonal',\n",
       " 'images': [{'height': None,\n",
       "   'url': 'https://i.scdn.co/image/ab6775700000ee85408a24c1f4df93632d6f2eda',\n",
       "   'width': None}],\n",
       " 'type': 'user',\n",
       " 'uri': 'spotify:user:itzpersonal'}"
      ]
     },
     "execution_count": 10,
     "metadata": {},
     "output_type": "execute_result"
    }
   ],
   "source": [
    "sp.current_user()"
   ]
  },
  {
   "cell_type": "code",
   "execution_count": null,
   "metadata": {},
   "outputs": [],
   "source": []
  }
 ],
 "metadata": {
  "kernelspec": {
   "display_name": "Python 3",
   "language": "python",
   "name": "python3"
  },
  "language_info": {
   "codemirror_mode": {
    "name": "ipython",
    "version": 3
   },
   "file_extension": ".py",
   "mimetype": "text/x-python",
   "name": "python",
   "nbconvert_exporter": "python",
   "pygments_lexer": "ipython3",
   "version": "3.8.5"
  }
 },
 "nbformat": 4,
 "nbformat_minor": 4
}
