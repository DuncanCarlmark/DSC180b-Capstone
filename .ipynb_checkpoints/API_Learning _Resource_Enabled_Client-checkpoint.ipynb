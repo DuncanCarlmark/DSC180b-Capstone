{
 "cells": [
  {
   "cell_type": "code",
   "execution_count": 1,
   "metadata": {},
   "outputs": [],
   "source": [
    "# # Standard imports\n",
    "\n",
    "\n",
    "# # Custom imports\n",
    "# from src.spotify_client import *"
   ]
  },
  {
   "cell_type": "code",
   "execution_count": 2,
   "metadata": {},
   "outputs": [],
   "source": [
    "import requests\n",
    "import base64\n",
    "import datetime\n",
    "from urllib.parse import urlencode\n",
    "\n",
    "import pandas as pd\n",
    "import numpy as np\n",
    "import matplotlib.pyplot as plt\n",
    "import glob\n",
    "import os\n",
    "import time\n",
    "import re\n",
    "import json\n",
    "from datetime import datetime, time, date\n",
    "\n",
    "import datetime\n",
    "import time\n",
    "\n",
    "from requests.exceptions import SSLError\n",
    "from requests.exceptions import ConnectionError\n",
    "\n",
    "# #Client identification for API requests\n",
    "client_id = 'f78a4f4cfe9c40ea8fe346b0576e98ea'\n",
    "client_secret = 'c26db2d4c1fb42d79dc99945b2360ab4'\n",
    "def temp():\n",
    "    print('it worked')\n",
    "\n",
    "# Rough client for simplifying API calls\n",
    "class SpotifyAPI(object):\n",
    "    # Access toekn info that allows us to make requests\n",
    "    access_token = None\n",
    "    access_token_expires = datetime.datetime.now()\n",
    "    access_token_did_expire = True\n",
    "    \n",
    "    # Client information\n",
    "    client_id = None\n",
    "    client_secret = None\n",
    "    \n",
    "    # URL used for authentication and receiving an access token\n",
    "    token_url = 'https://accounts.spotify.com/api/token'\n",
    "    \n",
    "    def __init__(self, client_id, client_secret, *args, **kwargs):\n",
    "        super().__init__(*args, **kwargs)\n",
    "        self.client_id = client_id\n",
    "        self.client_secret = client_secret\n",
    "        \n",
    "        \n",
    "    def get_client_credentials(self):\n",
    "        '''\n",
    "        returns a base 64 encoded string containing the client ID and Secret\n",
    "        \n",
    "        Converting to base 64 is necessary for the API requests\n",
    "        '''\n",
    "        client_id = self.client_id\n",
    "        client_secret = self.client_secret\n",
    "\n",
    "        if client_id == None or client_secret == None:\n",
    "            raise Exception(\"Must set client_id and client_secret\")\n",
    "        \n",
    "        client_creds = f'{client_id}:{client_secret}'\n",
    "        client_creds_b64 = base64.b64encode(client_creds.encode())\n",
    "        return client_creds_b64.decode()\n",
    "    \n",
    "    def get_token_header(self):\n",
    "        '''\n",
    "        Creates the header for the authorization token request\n",
    "        '''\n",
    "        client_creds_b64 = self.get_client_credentials()\n",
    "        return {\n",
    "            'Authorization' : f'Basic {client_creds_b64}' # Basic <base64 encoded client_id:client_secret>\n",
    "        }\n",
    "    \n",
    "    def get_token_data(self):\n",
    "        ''' \n",
    "        Creates the grant type for our application\n",
    "        \n",
    "        This changes what kind of data we can request from the API and what our rate limit\n",
    "        for requests is.\n",
    "        \n",
    "        We use 'client_credentials' which doesn't allow us to access user information, but provides\n",
    "        a higher rate limit for requests.\n",
    "        '''\n",
    "        return {\n",
    "            'grant_type': 'client_credentials'\n",
    "        }\n",
    "    \n",
    "    def auth(self):\n",
    "        '''\n",
    "        Follows the authorization flow for client_credentials to aquire an access token\n",
    "        \n",
    "        **CAUTION** The authorization token supposedly expires every hour even though\n",
    "        the Spotify API documentation says otherwise. Out of caution we have implemented\n",
    "        a feature that re-authenticates if an hour has passed since the last authentication\n",
    "        '''\n",
    "        \n",
    "        # Information associated with requesting for an access token\n",
    "        token_data = self.get_token_data()\n",
    "        token_headers = self.get_token_header()\n",
    "        token_url = self.token_url\n",
    "\n",
    "        \n",
    "        r = requests.post(token_url, data = token_data, headers = token_headers)\n",
    "        \n",
    "        # Raises an exception if there is some error with the authentication request\n",
    "        if r.status_code not in range (200, 299):\n",
    "            print(\"ERROR: Authentication failed with error code {}\".format(r.status_code))\n",
    "            return False\n",
    "        \n",
    "        # Convert response to a dictionary to parse\n",
    "        token_response_data = r.json()\n",
    "        \n",
    "        # Save access token\n",
    "        access_token = token_response_data['access_token']\n",
    "        self.access_token = access_token\n",
    "\n",
    "        # Save expiration time for access token\n",
    "        now = datetime.datetime.now()\n",
    "        expires_in = token_response_data['expires_in'] #seconds\n",
    "        expires = now + datetime.timedelta(seconds = expires_in)\n",
    "        self.access_token_expires = expires\n",
    "        self.access_token_did_expire = expires < now\n",
    "        \n",
    "        return True\n",
    "        \n",
    "    def search_track(self, item):\n",
    "        '''\n",
    "        Searches Spotify and returns a number of track results. Each result has basic information about the track.\n",
    "        \n",
    "        '''\n",
    "        access_token = self.access_token\n",
    "        \n",
    "        headers = {\n",
    "            'Authorization': f'Bearer {access_token}'\n",
    "        }\n",
    "\n",
    "        endpoint = 'https://api.spotify.com/v1/search'\n",
    "        data = urlencode({'q': item, 'type':'track'})\n",
    "\n",
    "        lookup_url = f'{endpoint}?{data}'\n",
    "        # print(lookup_url)\n",
    "\n",
    "        r = requests.get(lookup_url, headers=headers)\n",
    "        # print(r.status_code)\n",
    "        return r.json()\n",
    "    \n",
    "    def search_album(self, item):\n",
    "        access_token = self.access_token\n",
    "        \n",
    "        headers = {\n",
    "            'Authorization': f'Bearer {access_token}'\n",
    "        }\n",
    "\n",
    "        endpoint = 'https://api.spotify.com/v1/search'\n",
    "        data = urlencode({'q': item, 'type':'album'})\n",
    "\n",
    "        lookup_url = f'{endpoint}?{data}'\n",
    "        print(lookup_url)\n",
    "\n",
    "        r = requests.get(lookup_url, headers=headers)\n",
    "        print(r.status_code)\n",
    "        return r.json()\n",
    "    \n",
    "    def search_artist(self, item):\n",
    "        access_token = self.access_token\n",
    "        \n",
    "        headers = {\n",
    "            'Authorization': f'Bearer {access_token}'\n",
    "        }\n",
    "\n",
    "        endpoint = 'https://api.spotify.com/v1/search'\n",
    "        data = urlencode({'q': item, 'type':'artist'})\n",
    "\n",
    "        lookup_url = f'{endpoint}?{data}'\n",
    "        print(lookup_url)\n",
    "\n",
    "        r = requests.get(lookup_url, headers=headers)\n",
    "        print(r.status_code)\n",
    "        return r.json()"
   ]
  },
  {
   "cell_type": "markdown",
   "metadata": {},
   "source": [
    "# Initialize the Client Object"
   ]
  },
  {
   "cell_type": "code",
   "execution_count": 2,
   "metadata": {},
   "outputs": [
    {
     "data": {
      "text/plain": [
       "True"
      ]
     },
     "execution_count": 2,
     "metadata": {},
     "output_type": "execute_result"
    }
   ],
   "source": [
    "client = SpotifyAPI(client_id, client_secret)\n",
    "client.auth()"
   ]
  },
  {
   "cell_type": "markdown",
   "metadata": {},
   "source": [
    "# Test the client by searching for individual things"
   ]
  },
  {
   "cell_type": "code",
   "execution_count": 3,
   "metadata": {},
   "outputs": [
    {
     "name": "stdout",
     "output_type": "stream",
     "text": [
      "https://api.spotify.com/v1/search?q=the+eden+project&type=artist\n",
      "200\n"
     ]
    },
    {
     "data": {
      "text/plain": [
       "['electropop', 'indie poptimism', 'modern rock', 'pop']"
      ]
     },
     "execution_count": 3,
     "metadata": {},
     "output_type": "execute_result"
    }
   ],
   "source": [
    "r = client.searchArtist('the eden project')\n",
    "r['artists']['items'][0]['genres']"
   ]
  },
  {
   "cell_type": "markdown",
   "metadata": {},
   "source": [
    "# Combine Raw History With Spotify Information"
   ]
  },
  {
   "cell_type": "markdown",
   "metadata": {},
   "source": [
    "### Variables"
   ]
  },
  {
   "cell_type": "code",
   "execution_count": null,
   "metadata": {},
   "outputs": [],
   "source": [
    "data_path = 'data/data_2019'"
   ]
  },
  {
   "cell_type": "markdown",
   "metadata": {},
   "source": [
    "### Load all files that contain streaming history information"
   ]
  },
  {
   "cell_type": "code",
   "execution_count": null,
   "metadata": {},
   "outputs": [],
   "source": [
    "# Set Up Streaming History\n",
    "streamingHistory = []\n",
    "\n",
    "for f in os.listdir('data/data_2019'):\n",
    "    if f.startswith('StreamingHistory'):\n",
    "        streamingHistory.append(pd.read_json(os.path.join('data/data_2019', f)))\n",
    "    \n",
    "        \n",
    "rawHist = pd.concat(streamingHistory).reset_index(drop=True)"
   ]
  },
  {
   "cell_type": "markdown",
   "metadata": {},
   "source": [
    "### Aquire genre information by requesting metadata for each unique artist\n",
    "\n",
    "Spotify labels artists with a variety of genres. This information can be aquired by requesting artist information from the API and parsing the json the API returns.\n",
    "\n",
    "**ISSUES**\n",
    "\n",
    "1. Sometimes an API request fails because of a bad request or communication issue. This shows up as an SSL error and the provided code tries to account for that. If a request fails because of an SSL error the program retrys the request until it is successful.\n",
    "\n",
    "\n",
    "2. Sometimes the artist search returns nothing. To prevent the program from erroring we just check to see if the request returned at least one thing. If it did not return anything then we append NAN to our array of genres.\n",
    "\n",
    "MAYBE CHANGE: It might make more sense to return an empty array instead of NAN but that can be changed at a later date.\n",
    "\n",
    "\n",
    "3. I SWEAR there used to be an issue with some 'artists' having no genre information. This usually happened with very small artists, artists with strange characters in their name, and (all?) podcasts. I don't entirely remember how I corrected this issue because I don't see anything obvious in my code but if we find errors down the line then this may be a potential cause.\n"
   ]
  },
  {
   "cell_type": "code",
   "execution_count": null,
   "metadata": {},
   "outputs": [],
   "source": [
    "artists = rawHist['artistName'].unique()\n",
    "genreList = []\n",
    "skippedList = []\n",
    "painCount = 0\n",
    "painOffset = 0\n",
    "i = 0\n",
    "while i < len(artists):\n",
    "    try:\n",
    "        print(i - painOffset)\n",
    "        r = client.searchArtist(artists[i - painOffset])\n",
    "\n",
    "        # Make sure the query returns something\n",
    "        if len(r['artists']['items']) != 0:\n",
    "            print('APPENDED GENRE')\n",
    "            genreList.append(r['artists']['items'][0]['genres'])\n",
    "        else:\n",
    "            print('APPENDED NAN')\n",
    "            genreList.append(np.nan)\n",
    "            \n",
    "        i += 1\n",
    "\n",
    "        \n",
    "    except SSLError:\n",
    "        painCount += 1\n",
    "        print(\"HELP HELP HELP HELP\")\n",
    "        \n",
    "            \n",
    "print(painCount)"
   ]
  },
  {
   "cell_type": "code",
   "execution_count": null,
   "metadata": {},
   "outputs": [],
   "source": [
    "genreKey = dict(zip(artists, genreList))"
   ]
  },
  {
   "cell_type": "code",
   "execution_count": null,
   "metadata": {},
   "outputs": [],
   "source": [
    "genreKey['Zedd']"
   ]
  },
  {
   "cell_type": "code",
   "execution_count": null,
   "metadata": {},
   "outputs": [],
   "source": [
    "dfGenres = pd.DataFrame({'artistName':artists, 'genres':genreList})"
   ]
  },
  {
   "cell_type": "code",
   "execution_count": null,
   "metadata": {},
   "outputs": [],
   "source": [
    "dfGenres.to_csv('dfGenres.csv', index=False)"
   ]
  },
  {
   "cell_type": "code",
   "execution_count": null,
   "metadata": {},
   "outputs": [],
   "source": [
    "rawHist.to_csv('totalHist.csv', index=False)"
   ]
  },
  {
   "cell_type": "code",
   "execution_count": null,
   "metadata": {},
   "outputs": [],
   "source": [
    "rawHist"
   ]
  },
  {
   "cell_type": "code",
   "execution_count": null,
   "metadata": {},
   "outputs": [],
   "source": [
    "def appendGenres(row):\n",
    "    artist = row['artistName']\n",
    "    return genreKey[artist]\n",
    "    "
   ]
  },
  {
   "cell_type": "code",
   "execution_count": null,
   "metadata": {},
   "outputs": [],
   "source": [
    "genreCol = rawHist.apply(appendGenres, axis=1)\n",
    "hist = rawHist.assign(genre = genreCol)\n"
   ]
  },
  {
   "cell_type": "code",
   "execution_count": null,
   "metadata": {},
   "outputs": [],
   "source": [
    "hist"
   ]
  },
  {
   "cell_type": "code",
   "execution_count": null,
   "metadata": {},
   "outputs": [],
   "source": [
    "enc = OneHotEncoder()"
   ]
  },
  {
   "cell_type": "code",
   "execution_count": null,
   "metadata": {},
   "outputs": [],
   "source": [
    "hist = hist.dropna()\n",
    "hist.isna().mean()"
   ]
  },
  {
   "cell_type": "code",
   "execution_count": null,
   "metadata": {
    "scrolled": false
   },
   "outputs": [],
   "source": [
    "temp = []\n",
    "for i in genreKey.values():\n",
    "    if type(i) == list:\n",
    "        for j in i:\n",
    "            temp.append(j)"
   ]
  },
  {
   "cell_type": "code",
   "execution_count": null,
   "metadata": {},
   "outputs": [],
   "source": [
    "genres = pd.Series(temp).unique()"
   ]
  },
  {
   "cell_type": "code",
   "execution_count": null,
   "metadata": {},
   "outputs": [],
   "source": [
    "datetime.date.today()"
   ]
  }
 ],
 "metadata": {
  "kernelspec": {
   "display_name": "Python 3",
   "language": "python",
   "name": "python3"
  },
  "language_info": {
   "codemirror_mode": {
    "name": "ipython",
    "version": 3
   },
   "file_extension": ".py",
   "mimetype": "text/x-python",
   "name": "python",
   "nbconvert_exporter": "python",
   "pygments_lexer": "ipython3",
   "version": "3.8.5"
  }
 },
 "nbformat": 4,
 "nbformat_minor": 2
}
